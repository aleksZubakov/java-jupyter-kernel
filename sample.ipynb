{
 "cells": [
  {
   "cell_type": "code",
   "execution_count": 1,
   "metadata": {},
   "outputs": [
    {
     "name": "stdout",
     "output_type": "stream",
     "text": [
      "false\n"
     ]
    }
   ],
   "source": [
    "boolean b = false;\n",
    "b = true;\n",
    " \n",
    "boolean toBe = false;\n",
    "b = toBe || !toBe;\n",
    "if (b) {\n",
    "    System.out.println(toBe);\n",
    "}"
   ]
  },
  {
   "cell_type": "code",
   "execution_count": 2,
   "metadata": {},
   "outputs": [
    {
     "name": "stdout",
     "output_type": "stream",
     "text": [
      "1"
     ]
    }
   ],
   "source": [
    "int a = 4;\n",
    "int result = a == 4 ? 1 : 8;\n",
    "int result;\n",
    "if (a == 4) {\n",
    "    result = 1;\n",
    "} else {\n",
    "    result = 8;\n",
    "}\n",
    "System.out.print(result);"
   ]
  },
  {
   "cell_type": "code",
   "execution_count": 3,
   "metadata": {},
   "outputs": [
    {
     "name": "stdout",
     "output_type": "stream",
     "text": [
      "Yuhu\n",
      "Tata\n",
      "Yuhu\n",
      "Yuhu\n",
      "3\n"
     ]
    }
   ],
   "source": [
    "int i;\n",
    "for (i = 0; i < 5; i++) {\n",
    "    if (i >= 3) {\n",
    "        break;\n",
    "    }\n",
    "    System.out.println(\"Yuhu\");\n",
    "    if (i >= 1) {\n",
    "        continue;\n",
    "    }\n",
    "    System.out.println(\"Tata\");\n",
    "}\n",
    "System.out.println(i);"
   ]
  },
  {
   "cell_type": "code",
   "execution_count": 4,
   "metadata": {},
   "outputs": [
    {
     "name": "stdout",
     "output_type": "stream",
     "text": []
    }
   ],
   "source": [
    "public class Student {\n",
    "    private String name;\n",
    "    public String getName() {\n",
    "        return name;\n",
    "    }\n",
    "    public void setName(String name) {\n",
    "        this.name = name;\n",
    "    }\n",
    "}"
   ]
  },
  {
   "cell_type": "code",
   "execution_count": 5,
   "metadata": {},
   "outputs": [
    {
     "name": "stdout",
     "output_type": "stream",
     "text": [
      "Danielle"
     ]
    }
   ],
   "source": [
    "Student s = new Student();\n",
    "s.setName(\"Danielle\");\n",
    "String name = s.getName();\n",
    "System.out.print(name);"
   ]
  },
  {
   "cell_type": "code",
   "execution_count": 6,
   "metadata": {},
   "outputs": [
    {
     "name": "stdout",
     "output_type": "stream",
     "text": [
      "boolean b = true\n",
      "boolean toBe = false\n",
      "int a = 4\n",
      "int result = 1\n",
      "int i = 3\n",
      "Student s = Student@72d818d1\n",
      "String name = \"Danielle\"\n"
     ]
    }
   ],
   "source": [
    "/vars"
   ]
  },
  {
   "cell_type": "code",
   "execution_count": 7,
   "metadata": {},
   "outputs": [
    {
     "name": "stdout",
     "output_type": "stream",
     "text": []
    }
   ],
   "source": [
    "double sum(double a, double b) {\n",
    "     double x;\n",
    "     x = a + b;\n",
    "     return x;\n",
    "}"
   ]
  },
  {
   "cell_type": "code",
   "execution_count": 8,
   "metadata": {},
   "outputs": [
    {
     "name": "stdout",
     "output_type": "stream",
     "text": [
      "5.85"
     ]
    }
   ],
   "source": [
    "System.out.print(sum(3.14,2.71));"
   ]
  },
  {
   "cell_type": "code",
   "execution_count": 9,
   "metadata": {},
   "outputs": [
    {
     "name": "stdout",
     "output_type": "stream",
     "text": []
    }
   ],
   "source": [
    "class Point {\n",
    "    int x;\n",
    "    int y;\n",
    " \n",
    "    Point() {\n",
    "        this(0, 0);\n",
    "    }\n",
    " \n",
    "    Point(int x, int y) {\n",
    "        this.x = x;\n",
    "        this.y = y;\n",
    "    }\n",
    "}"
   ]
  },
  {
   "cell_type": "code",
   "execution_count": 10,
   "metadata": {},
   "outputs": [
    {
     "name": "stdout",
     "output_type": "stream",
     "text": [
      "12 3"
     ]
    }
   ],
   "source": [
    "Point p = new Point(12,3);\n",
    "System.out.printf(\"%d %d\", p.x, p.y);"
   ]
  },
  {
   "cell_type": "code",
   "execution_count": 11,
   "metadata": {},
   "outputs": [
    {
     "name": "stdout",
     "output_type": "stream",
     "text": [
      "sum (double,double)double\n"
     ]
    }
   ],
   "source": [
    "/methods"
   ]
  },
  {
   "cell_type": "code",
   "execution_count": 12,
   "metadata": {},
   "outputs": [
    {
     "name": "stdout",
     "output_type": "stream",
     "text": [
      "boolean b = true\n",
      "boolean toBe = false\n",
      "int a = 4\n",
      "int result = 1\n",
      "int i = 3\n",
      "Student s = Student@72d818d1\n",
      "String name = \"Danielle\"\n",
      "Point p = Point@370736d9\n",
      "java.io.PrintStream $1 = java.io.PrintStream@63753b6d\n"
     ]
    }
   ],
   "source": [
    "/vars"
   ]
  },
  {
   "cell_type": "code",
   "execution_count": null,
   "metadata": {},
   "outputs": [],
   "source": []
  }
 ],
 "metadata": {
  "kernelspec": {
   "display_name": "Java",
   "language": "",
   "name": "java"
  },
  "language_info": {
   "mimetype": "text/plain",
   "name": "Java"
  }
 },
 "nbformat": 4,
 "nbformat_minor": 2
}
